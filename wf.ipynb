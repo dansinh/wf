{
 "cells": [
  {
   "cell_type": "markdown",
   "id": "912ee42e-d446-4684-b472-8fca2a069769",
   "metadata": {},
   "source": [
    "## 1. Setup"
   ]
  },
  {
   "cell_type": "code",
   "execution_count": 1,
   "id": "b15c5576-966d-4e56-92ee-69f47746fe67",
   "metadata": {},
   "outputs": [],
   "source": [
    "import numpy as np\n",
    "import pandas as pd\n",
    "import matplotlib.pyplot as plt\n",
    "import pickle\n",
    "\n",
    "from imblearn.over_sampling import SMOTENC\n",
    "from sklearn.preprocessing import StandardScaler, OneHotEncoder\n",
    "from sklearn.feature_selection import VarianceThreshold\n",
    "from sklearn.compose import ColumnTransformer\n",
    "from sklearn.pipeline import make_pipeline\n",
    "from sklearn.model_selection import train_test_split\n",
    "from sklearn.linear_model import LogisticRegression\n",
    "from sklearn.metrics import (\n",
    "    confusion_matrix, ConfusionMatrixDisplay, classification_report,\n",
    "    recall_score, precision_score, jaccard_score, accuracy_score\n",
    ")"
   ]
  },
  {
   "cell_type": "code",
   "execution_count": 2,
   "id": "eab9ffe2-3a3a-4e8d-93ae-14544d2e8fd6",
   "metadata": {},
   "outputs": [
    {
     "name": "stdout",
     "output_type": "stream",
     "text": [
      "Python implementation: CPython\n",
      "Python version       : 3.10.11\n",
      "IPython version      : 8.12.0\n",
      "\n",
      "Compiler    : Clang 14.0.6 \n",
      "OS          : Darwin\n",
      "Release     : 22.6.0\n",
      "Machine     : arm64\n",
      "Processor   : arm\n",
      "CPU cores   : 8\n",
      "Architecture: 64bit\n",
      "\n",
      "numpy     : 1.24.3\n",
      "pandas    : 1.4.2\n",
      "matplotlib: 3.5.1\n",
      "\n"
     ]
    }
   ],
   "source": [
    "%load_ext watermark\n",
    "%watermark --machine --python --iversions"
   ]
  },
  {
   "cell_type": "markdown",
   "id": "b420c875-e50a-482e-8890-0ce0a0dad1b6",
   "metadata": {},
   "source": [
    "## 2. Data"
   ]
  },
  {
   "cell_type": "code",
   "execution_count": 3,
   "id": "61b0a304-9ff6-4ee6-8a32-5639b9a2a404",
   "metadata": {},
   "outputs": [],
   "source": [
    "def prep_data(df):\n",
    "    cols = [\n",
    "        \"id\", \"loan_amnt\", \"loan_status\",\n",
    "        \"term\", \"int_rate\", \"installment\", \"emp_length\",\n",
    "        \"home_ownership\", \"annual_inc\", \"purpose\", \"dti\",\n",
    "        \"delinq_2yrs\", \"mths_since_last_delinq\",\n",
    "        \"open_acc\", \"total_acc\",\n",
    "        \"revol_bal\", \"earliest_cr_line\"\n",
    "    ]\n",
    "    df = (\n",
    "        df[cols]\n",
    "        .rename(columns = {\n",
    "            'id': 'customer_id',\n",
    "            'loan_amnt': 'loan_amount',\n",
    "            'int_rate': 'interest_rate',\n",
    "            'emp_length': 'employment_length',\n",
    "            'annual_inc': 'annual_income',\n",
    "            'delinq_2yrs': 'delinquency_2years',\n",
    "            'mths_since_last_delinq': 'months_since_delinquency',\n",
    "            'earliest_cr_line': 'min_date_credit_line',\n",
    "            'open_acc': 'open_accounts',\n",
    "            'total_acc': 'total_accounts',\n",
    "            'revol_bal': 'revolving_balance'\n",
    "        })\n",
    "        .assign(\n",
    "            months_since_delinquency = lambda df_: \n",
    "                df_.months_since_delinquency.fillna(0)\n",
    "        )\n",
    "        .assign(\n",
    "            loan_status = lambda df_:\n",
    "                df_.loan_status.replace({\n",
    "                    'Charged Off': 'bad', 'Default': 'bad',\n",
    "                    'Late (31-120 days)': 'bad', 'Late (16-30 days)': 'bad',\n",
    "                    'In Grace Period': 'good', 'Current': 'good', 'Fully Paid': 'good'\n",
    "                }).astype('category'),\n",
    "            home_ownership = lambda df_: df_.home_ownership.replace({\n",
    "                'MORTGAGE': 'mortgage', 'RENT': 'rent',\n",
    "                'OWN': 'own', 'OTHER': 'mortgage', 'NONE': 'mortgage' \n",
    "            }).astype('category'),\n",
    "            purpose = lambda df_: df_.purpose.replace({\n",
    "                'debt_consolidation': 'debt_consolidation',\n",
    "                'credit_card': 'credit_card',\n",
    "                'home_improvement': 'home_improvement',\n",
    "                'other': 'other', 'major_purchase': 'other',\n",
    "                'small_business': 'other', 'car': 'other',\n",
    "                'medical': 'other', 'wedding': 'other',\n",
    "                'house': 'other', 'moving': 'other',\n",
    "                'vacation': 'other', 'renewable_energy': 'other'\n",
    "            }).astype('category')\n",
    "        )\n",
    "        .assign(\n",
    "            employment_length = lambda df_:\n",
    "                df_.employment_length.replace('< 1 year', 0.5)\n",
    "                .str.extract(r'(\\d+)')\n",
    "                .astype('float')\n",
    "                .fillna(1)\n",
    "        )\n",
    "        .assign(\n",
    "            loan_amount = lambda df_: df_.loan_amount.astype('float'),\n",
    "            term = lambda df_: df_.term.astype('category'),\n",
    "            purpose = lambda df_: df_.purpose.astype('category'),\n",
    "            min_date_credit_line = lambda df_: \n",
    "                pd.to_datetime(df_.min_date_credit_line)\n",
    "        )\n",
    "        .assign(\n",
    "            min_date_credit_line = lambda df_:\n",
    "                np.where(\n",
    "                    df_['min_date_credit_line'] <= pd.Timestamp.today(),\n",
    "                    df_.min_date_credit_line,\n",
    "                    pd.to_datetime(pd.Timestamp.today())\n",
    "                ).astype('datetime64[ns]')\n",
    "        )\n",
    "        .assign(\n",
    "            min_date_credit_line = lambda df_:\n",
    "                np.where(\n",
    "                    df_['min_date_credit_line'] >= pd.to_datetime('1989-01-01'),\n",
    "                    df_.min_date_credit_line,\n",
    "                    pd.to_datetime('1989-01-01')\n",
    "                ).astype('datetime64[ns]')\n",
    "        )\n",
    "        .assign(\n",
    "            months_since_first_credit = lambda df_:\n",
    "                ((pd.to_datetime('today') - df_.min_date_credit_line) / np.timedelta64(1, 'M'))\n",
    "        )\n",
    "        .assign(\n",
    "            loan_income_ratio = lambda df_:\n",
    "                df_.loan_amount / df_.annual_income,\n",
    "            installment_balance_ratio = lambda df_: \n",
    "                df_.installment / (df_.revolving_balance + 1),\n",
    "            open_account_ratio = lambda df_: \n",
    "                df_.open_accounts / df_.total_accounts,\n",
    "            total_earnings = lambda df_: \n",
    "                df_.employment_length * df_.annual_income\n",
    "        )\n",
    "        .drop(columns = ['min_date_credit_line'])\n",
    "        .dropna()\n",
    "    )\n",
    "    return df"
   ]
  },
  {
   "cell_type": "code",
   "execution_count": 4,
   "id": "aba0bb60-705d-4b5c-a4fe-41f57b90dba0",
   "metadata": {},
   "outputs": [],
   "source": [
    "df = prep_data(pd.read_csv(\"loan_data.csv\"))"
   ]
  },
  {
   "cell_type": "markdown",
   "id": "d36ae39a-249e-4bef-99c3-42743cc73799",
   "metadata": {},
   "source": [
    "## 3. Models"
   ]
  },
  {
   "cell_type": "code",
   "execution_count": 5,
   "id": "90c120ff-8acd-48d2-b75c-9f047dd02c54",
   "metadata": {},
   "outputs": [],
   "source": [
    "# 3.1 Data budgeting\n",
    "target = 'loan_status'\n",
    "features = df.columns.drop(['customer_id', 'loan_status'])\n",
    "cat_features = ['term', 'home_ownership', 'purpose']\n",
    "num_features = features.drop(cat_features)\n",
    "\n",
    "X_train, X_test, y_train, y_test = train_test_split(\n",
    "    df[features], df[target],\n",
    "    test_size = 0.2, random_state = 1, stratify = df[target]\n",
    ")"
   ]
  },
  {
   "cell_type": "code",
   "execution_count": 6,
   "id": "21f20b93-70f9-425a-852c-e7f989cf4610",
   "metadata": {},
   "outputs": [],
   "source": [
    "# 3.2 Feature pipeline\n",
    "cat_transformer = make_pipeline(\n",
    "    OneHotEncoder(handle_unknown = \"ignore\"),\n",
    "    VarianceThreshold(0.0)\n",
    ")\n",
    "\n",
    "num_transformer = make_pipeline(\n",
    "    VarianceThreshold(0.0),\n",
    "    StandardScaler()\n",
    ")\n",
    "\n",
    "logistic_model = make_pipeline(\n",
    "    ColumnTransformer([\n",
    "        ('categorical', cat_transformer, cat_features),\n",
    "        ('numeric', num_transformer, num_features)\n",
    "    ]),\n",
    "    LogisticRegression(\n",
    "        penalty = \"none\",\n",
    "        max_iter = 1000,\n",
    "        class_weight = 'balanced'\n",
    "    )\n",
    ")\n",
    "\n",
    "sm = SMOTENC(\n",
    "    categorical_features = cat_features,\n",
    "    categorical_encoder = OneHotEncoder(),\n",
    "    random_state = 1, sampling_strategy = 1\n",
    ")\n",
    "X_train_res, y_train_res = sm.fit_resample(X_train, y_train)"
   ]
  },
  {
   "cell_type": "code",
   "execution_count": 7,
   "id": "cd7f5ecb-8272-4382-a6ed-a5484aeaf82f",
   "metadata": {},
   "outputs": [
    {
     "data": {
      "image/png": "[encoded data removed]",
      "text/plain": [
       "<Figure size 640x480 with 2 Axes>"
      ]
     },
     "metadata": {},
     "output_type": "display_data"
    }
   ],
   "source": [
    "# 3.3 Model prediction and evaluation\n",
    "logistic_model.fit(X_train_res, y_train_res)\n",
    "y_pred = logistic_model.predict(X_test)\n",
    "ConfusionMatrixDisplay.from_estimator(logistic_model, X_test, y_test)\n",
    "plt.show()"
   ]
  },
  {
   "cell_type": "code",
   "execution_count": 8,
   "id": "7d3cebd9-a7a8-4ad2-8060-af52ccebb6e5",
   "metadata": {},
   "outputs": [
    {
     "name": "stdout",
     "output_type": "stream",
     "text": [
      "              precision    recall  f1-score   support\n",
      "\n",
      "         bad       0.07      0.62      0.13        81\n",
      "        good       0.97      0.64      0.77      1824\n",
      "\n",
      "    accuracy                           0.63      1905\n",
      "   macro avg       0.52      0.63      0.45      1905\n",
      "weighted avg       0.94      0.63      0.74      1905\n",
      "\n"
     ]
    }
   ],
   "source": [
    "# bad = 0 (negative), good = 1 (positive)\n",
    "target_names = ['bad', 'good']\n",
    "print(classification_report(\n",
    "    y_true = y_test.values, y_pred = y_pred, target_names = target_names\n",
    "))"
   ]
  },
  {
   "cell_type": "code",
   "execution_count": 9,
   "id": "01c9d6a2-5413-46da-aad8-d11efc4c051d",
   "metadata": {},
   "outputs": [],
   "source": [
    "# 2.4 Final pickled model trained on all data\n",
    "X, y = sm.fit_resample(df[features], df[target])\n",
    "final_model = logistic_model.fit(X, y)\n",
    "with open(\"final_model_saved.pickle\", \"wb\") as file:\n",
    "    pickle.dump(final_model, file)"
   ]
  }
 ],
 "metadata": {
  "kernelspec": {
   "display_name": "Python 3 (ipykernel)",
   "language": "python",
   "name": "python3"
  },
  "language_info": {
   "codemirror_mode": {
    "name": "ipython",
    "version": 3
   },
   "file_extension": ".py",
   "mimetype": "text/x-python",
   "name": "python",
   "nbconvert_exporter": "python",
   "pygments_lexer": "ipython3",
   "version": "3.10.11"
  }
 },
 "nbformat": 4,
 "nbformat_minor": 5
}
